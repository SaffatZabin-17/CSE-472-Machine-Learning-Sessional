{
  "cells": [
    {
      "cell_type": "markdown",
      "metadata": {
        "id": "tR6lhSBd5zfc"
      },
      "source": [
        "# Dense Layer class"
      ]
    },
    {
      "cell_type": "code",
      "execution_count": 95,
      "metadata": {
        "id": "bd0HME0v5slF"
      },
      "outputs": [],
      "source": [
        "class DenseLayer:\n",
        "    def __init__(self, input_dim, output_dim, initialization='he'):\n",
        "        \"\"\"\n",
        "        The initialize_parameters() function initializes the weights and biases of a neural network layer using xavier initialization\n",
        "        \"\"\"\n",
        "        #X\n",
        "        self.input_X = None\n",
        "        #Z\n",
        "        self.output_Z = None\n",
        "\n",
        "        self.gradient_weights_dw = None\n",
        "        self.gradient_bias_db = None\n",
        "        # for printing purposes\n",
        "        self.gradient_output_dz = None\n",
        "        self.gradient_input_dx = None\n",
        "        self.bias = np.zeros((1, output_dim))\n",
        "\n",
        "        if initialization == 'he':\n",
        "            self.weight_matrix = np.random.randn(input_dim, output_dim) * np.sqrt(2/input_dim)\n",
        "        elif initialization == 'xavier':\n",
        "            limit = np.sqrt(6 / (input_dim + output_dim))\n",
        "            self.weight_matrix = np.random.uniform(-limit, limit, (input_dim, output_dim))\n",
        "\n",
        "    def forward_pass(self, input_data):\n",
        "        \"\"\"\n",
        "        Z = WX + b.\n",
        "        \"\"\"\n",
        "        self.input_X = input_data\n",
        "        self.output_Z = np.dot(input_data, self.weight_matrix) + self.bias\n",
        "        return self.output_Z\n",
        "\n",
        "\n",
        "    def backward_pass(self, gradient_output_dZ, learning_rate):\n",
        "        \"\"\"\n",
        "        Perform the backward pass and update weights and biases\n",
        "        \"\"\"\n",
        "        self.gradient_output_dz = gradient_output_dZ   # For printing\n",
        "\n",
        "        self.gradient_bias_db = np.sum(gradient_output_dZ, axis=0, keepdims=True)\n",
        "        self.gradient_weights_dw = np.dot(self.input_X.T, gradient_output_dZ)\n",
        "\n",
        "        gradient_input_dX = np.dot(gradient_output_dZ, self.weight_matrix.T)\n",
        "        self.gradient_input_dx = gradient_input_dX  # For printing purposes\n",
        "\n",
        "        return gradient_input_dX\n"
      ]
    },
    {
      "cell_type": "markdown",
      "metadata": {
        "id": "rEKB6fYl53MU"
      },
      "source": [
        "# ReLU Activation"
      ]
    },
    {
      "cell_type": "code",
      "execution_count": 96,
      "metadata": {
        "id": "6WHCGh-F59QU"
      },
      "outputs": [],
      "source": [
        "class RELU:\n",
        "    def __init__(self):\n",
        "        self.input_Z = None\n",
        "        self.gradient_of_RELU = None\n",
        "\n",
        "\n",
        "    def forward_pass(self, input_Z):\n",
        "        self.input_Z = input_Z\n",
        "        return np.maximum(0, input_Z)\n",
        "\n",
        "    def backward_pass(self, gradient_output,lr):\n",
        "\n",
        "        self.gradient_of_RELU = (self.input_Z > 0).astype(float)\n",
        "        return gradient_output * self.gradient_of_RELU"
      ]
    },
    {
      "cell_type": "markdown",
      "metadata": {
        "id": "CWO7Igo-5-yO"
      },
      "source": [
        "# Batch Normalization"
      ]
    },
    {
      "cell_type": "code",
      "execution_count": 97,
      "metadata": {
        "id": "-Y4zXIYx6BSa"
      },
      "outputs": [],
      "source": [
        "class BatchNormalization:\n",
        "    def __init__(self, input_dimension, momentum=0.9, epsilon=1e-8):\n",
        "        self.mean_of_the_minibatch = None\n",
        "        self.variance_of_the_minibatch = None\n",
        "        self.epsilon = epsilon\n",
        "        self.momentum = momentum\n",
        "        self.beta_factor = np.zeros((1, input_dimension))\n",
        "\n",
        "        self.gamma_factor = np.ones((1, input_dimension))\n",
        "\n",
        "        self.input_Z = None\n",
        "        self.normalized_input_Z = None\n",
        "\n",
        "        self.mean_running = np.zeros((1, input_dimension))\n",
        "        self.variance_running = np.ones((1, input_dimension))\n",
        "\n",
        "        self.output_data = None\n",
        "\n",
        "\n",
        "    def forward_pass(self, input_data, training=True):\n",
        "        # Store input data\n",
        "        self.input_Z = input_data\n",
        "\n",
        "        if training:\n",
        "            # Compute batch mean and variance\n",
        "\n",
        "            self.mean_of_the_minibatch = np.mean(input_data, axis=0, keepdims=True)\n",
        "            self.variance_of_the_minibatch = np.var(input_data, axis=0, keepdims=True)\n",
        "\n",
        "            # Normalize input based on the batch statistics\n",
        "\n",
        "            self.normalized_input = (input_data - self.mean_of_the_minibatch)/(np.sqrt(self.variance_of_the_minibatch + self.epsilon))\n",
        "\n",
        "            # Update running statistics\n",
        "\n",
        "            self.mean_running = (self.momentum * self.mean_running) + ((1 - self.momentum) * self.mean_of_the_minibatch)\n",
        "            self.variance_running = (self.momentum * self.variance_running) + ((1 - self.momentum) * self.variance_of_the_minibatch)\n",
        "        else:\n",
        "            # Use running statistics during inference\n",
        "\n",
        "            self.normalized_input = (input_data - self.mean_of_the_minibatch)/(np.sqrt(self.variance_of_the_minibatch + self.epsilon))\n",
        "\n",
        "        # Apply scale (gamma) and shift (beta) in two steps\n",
        "        self.output_data = self.gamma_factor * self.normalized_input + self.beta_factor\n",
        "        return self.output_data\n",
        "\n",
        "    def compute_gradient_variance(self, gradient_input, batch_size):\n",
        "        # Calculate gradient with respect to variance in smaller steps\n",
        "        A = self.input_Z - self.mean_of_the_minibatch\n",
        "        B = (self.variance_of_the_minibatch + self.epsilon) ** -1.5\n",
        "\n",
        "        gradient_variance = np.sum(gradient_input * A * -0.5 * B, axis=0)\n",
        "        return gradient_variance\n",
        "\n",
        "    def compute_gradient_mean(self, gradient_input, gradient_variance, batch_size):\n",
        "        # Calculate gradient with respect to the mean\n",
        "        A = np.sqrt(self.variance_of_the_minibatch + self.epsilon)\n",
        "        C = gradient_input * -1.0\n",
        "        gradient_mean = np.sum(C / A, axis=0)\n",
        "        J = -2.0 * (self.input_Z - self.mean_of_the_minibatch)\n",
        "\n",
        "        gradient_mean = gradient_mean + (gradient_variance * np.mean(J, axis=0))\n",
        "        return gradient_mean\n",
        "\n",
        "    def update_parameters(self, learning_rate, gradient_beta, gradient_gamma):\n",
        "        # Update gamma and beta in separate steps\n",
        "        self.gamma_factor = self.gamma_factor - learning_rate * gradient_gamma\n",
        "        self.beta_factor = self.beta_factor - learning_rate * gradient_beta\n",
        "\n",
        "    def compute_gradient_input(self, gradient_variance, gradient_mean, gradient_normalized_input, batch_size):\n",
        "        # Calculate input gradient in parts\n",
        "        V = (gradient_variance * 2.0 * (self.input_Z - self.mean_of_the_minibatch)) / batch_size\n",
        "        A = (gradient_normalized_input / np.sqrt(self.variance_of_the_minibatch + self.epsilon))\n",
        "        D = (gradient_mean / batch_size)\n",
        "\n",
        "        gradient_input = A + V + D\n",
        "        return gradient_input\n",
        "\n",
        "    def backward_pass(self, gradient_output, learning_rate):\n",
        "        batch_size = self.input_Z.shape[0]\n",
        "\n",
        "        # Compute gradients for gamma, beta, and normalized input\n",
        "        gradient_beta = np.sum(gradient_output, axis=0)\n",
        "        gradient_gamma = np.sum(gradient_output * self.normalized_input, axis=0)\n",
        "        gradient_normalized_input = gradient_output * self.gamma_factor\n",
        "\n",
        "        # Compute gradients for variance and mean\n",
        "        gradient_variance = self.compute_gradient_variance(gradient_normalized_input, batch_size)\n",
        "        gradient_mean = self.compute_gradient_mean(gradient_normalized_input, gradient_variance, batch_size)\n",
        "\n",
        "        # Compute gradient with respect to input\n",
        "        gradient_input = self.compute_gradient_input(gradient_variance, gradient_mean, gradient_normalized_input, batch_size)\n",
        "\n",
        "        # Update parameters\n",
        "        self.update_parameters(learning_rate, gradient_beta, gradient_gamma)\n",
        "\n",
        "        return gradient_input\n"
      ]
    },
    {
      "cell_type": "markdown",
      "metadata": {
        "id": "djSAZA4g6PuL"
      },
      "source": [
        "# Dropout Regularization"
      ]
    },
    {
      "cell_type": "code",
      "execution_count": 98,
      "metadata": {
        "id": "1vqxwmuz6SJt"
      },
      "outputs": [],
      "source": [
        "class Dropout:\n",
        "  def __init__(self, dropout_rate=0.5):\n",
        "        self.dropout_rate = dropout_rate\n",
        "        #to identify which neurons to drop\n",
        "        self.mask_vector = None\n",
        "        self.training_mode = True  # Whether the layer is in training mode\n",
        "\n",
        "  def forward_pass(self, input_data, training=True):\n",
        "\n",
        "        self.training_mode = training\n",
        "        if self.training_mode:\n",
        "            # Create a binary mask with 0s and 1s (1 where the neuron is kept, 0 where it is dropped)\n",
        "            self.mask_vector = np.random.binomial(1, 1 - self.dropout_rate, size=input_data.shape)\n",
        "\n",
        "            output_data = (input_data * self.mask_vector) / ((1 - self.dropout_rate))\n",
        "        else:\n",
        "            # No dropout applied during inference\n",
        "            output_data = input_data\n",
        "        return output_data\n",
        "\n",
        "  def backward_pass(self, gradient_output,lr):\n",
        "        if self.training_mode:\n",
        "            # Backpropagate the gradient through the dropout mask\n",
        "            return (gradient_output * self.mask_vector) / ((1 - self.dropout_rate))\n",
        "        else:\n",
        "            # No dropout applied during inference, return gradient as-is\n",
        "            return gradient_output"
      ]
    },
    {
      "cell_type": "markdown",
      "metadata": {
        "id": "XM7UYYLC6Z9b"
      },
      "source": [
        "# Adam Optimizer"
      ]
    },
    {
      "cell_type": "code",
      "execution_count": 99,
      "metadata": {
        "id": "vVdEWlQT6Ze7"
      },
      "outputs": [],
      "source": [
        "class AdamOptimizer:\n",
        "    def __init__(self, learning_rate=0.001, first_momentum_decay=0.9, second_momentum_decay=0.999, epsilon=1e-8):\n",
        "        self.alpha_lr = learning_rate\n",
        "        self.beta_1 = first_momentum_decay\n",
        "        self.beta_2 = second_momentum_decay\n",
        "\n",
        "        self.mean_avg_bias = {}\n",
        "        self.mean_avg_sq_bias = {}\n",
        "        self.mean_avg_wt = {}\n",
        "        self.mean_avg_sq_wt = {}\n",
        "        self.eps = epsilon\n",
        "        self.timestep_counter = 0\n",
        "\n",
        "\n",
        "    def initialization(self, layer):\n",
        "        if layer not in self.mean_avg_wt:\n",
        "            self.mean_avg_bias[layer] = np.zeros_like(layer.bias)\n",
        "            self.mean_avg_sq_bias[layer] = np.zeros_like(layer.bias)\n",
        "            self.mean_avg_wt[layer] = np.zeros_like(layer.weight_matrix)\n",
        "            self.mean_avg_sq_wt[layer] = np.zeros_like(layer.weight_matrix)\n",
        "\n",
        "\n",
        "    def compute_average_moving(self, gradient, momentum_average, beta_factor):\n",
        "        A = beta_factor * momentum_average\n",
        "\n",
        "        B = (1 - beta_factor) * gradient\n",
        "        C = A + B\n",
        "        return C\n",
        "\n",
        "    def compute_corrected_bias(self, momentum_avg, beta_factor):\n",
        "        A=beta_factor ** self.timestep_counter\n",
        "        C = 1 - A\n",
        "        D = momentum_avg / C\n",
        "        return D\n",
        "\n",
        "    def compute_weight_update(self, layer, weight_dx, bias_dx):\n",
        "        # Perform weight and bias updates\n",
        "        layer.bias =layer.bias - bias_dx\n",
        "\n",
        "        layer.weight_matrix =layer.weight_matrix - weight_dx\n",
        "        #print(f\"AFTER...{layer.weight_matrix}...\")\n",
        "\n",
        "\n",
        "    def compute_updated_weight(self, corrected_w, corrected_sq_w):\n",
        "        # Compute the weight update using Adam's update rule\n",
        "        A = self.alpha_lr * corrected_w\n",
        "        X=np.sqrt(corrected_sq_w)\n",
        "        B = X + self.eps\n",
        "        weight_update = A / B\n",
        "        return weight_update\n",
        "\n",
        "    def compute_updated_bias(self, corrected_b, corrected_sq_b):\n",
        "        # Compute the bias update using Adam's update rule\n",
        "        X = self.alpha_lr * corrected_b\n",
        "        Y = np.sqrt(corrected_sq_b) + self.eps\n",
        "        bias_update = X / Y\n",
        "        return bias_update\n",
        "\n",
        "\n",
        "    def update(self, layer):\n",
        "        # Ensure moments are initialized for this layer\n",
        "        self.initialization(layer)\n",
        "\n",
        "        # Increment time step counter\n",
        "        self.timestep_counter=self.timestep_counter + 1\n",
        "\n",
        "        # Fetch gradients from the layer\n",
        "        gradient_bias = layer.gradient_bias_db\n",
        "\n",
        "        gradient_wt = layer.gradient_weights_dw\n",
        "\n",
        "\n",
        "\n",
        "        self.mean_avg_bias[layer] = self.compute_average_moving(gradient_bias, self.mean_avg_bias[layer], self.beta_1)\n",
        "        X=np.square(gradient_bias)\n",
        "        self.mean_avg_sq_bias[layer] = self.compute_average_moving(X, self.mean_avg_sq_bias[layer], self.beta_2)\n",
        "        Y=np.square(gradient_wt)\n",
        "        self.mean_avg_sq_wt[layer] = self.compute_average_moving(Y, self.mean_avg_sq_wt[layer], self.beta_2)\n",
        "        self.mean_avg_wt[layer] = self.compute_average_moving(gradient_wt, self.mean_avg_wt[layer], self.beta_1)\n",
        "\n",
        "\n",
        "        # --- Apply bias correction ---\n",
        "        corr_bias = self.compute_corrected_bias(self.mean_avg_bias[layer], self.beta_1)\n",
        "        corr_sq_bias = self.compute_corrected_bias(self.mean_avg_sq_bias[layer], self.beta_2)\n",
        "\n",
        "        corr_sq_wt = self.compute_corrected_bias(self.mean_avg_sq_wt[layer], self.beta_2)\n",
        "        corr_wt = self.compute_corrected_bias(self.mean_avg_wt[layer], self.beta_1)\n",
        "\n",
        "\n",
        "        # --- Compute updates for weights and biases ---\n",
        "        bias_change = self.compute_updated_bias(corr_bias, corr_sq_bias)\n",
        "\n",
        "        weight_change = self.compute_updated_weight(corr_wt, corr_sq_wt)\n",
        "\n",
        "        # --- Update weights and biases in the layer ---\n",
        "        self.compute_weight_update(layer, weight_change, bias_change)"
      ]
    },
    {
      "cell_type": "markdown",
      "metadata": {
        "id": "Dp2KQ3JF6fbv"
      },
      "source": [
        "# Softmax Classification"
      ]
    },
    {
      "cell_type": "code",
      "execution_count": 100,
      "metadata": {
        "id": "cfps6o5l6h4O"
      },
      "outputs": [],
      "source": [
        "class Softmax:\n",
        "    def __init__(self):\n",
        "        self.output_data = None\n",
        "        self.input_data = None\n",
        "        self.input_gradient=None\n",
        "        self.output_gradient=None\n",
        "\n",
        "    def shift(self,X):\n",
        "        return (X - (np.max(X, axis=1, keepdims=True)))\n",
        "\n",
        "    def forward_pass(self, input_X):\n",
        "        # Shift input by subtracting the max value for numerical stability\n",
        "        U=self.shift(input_X)\n",
        "\n",
        "        # Compute softmax probabilities\n",
        "        softmax_output = np.exp(U) / (np.sum(np.exp(U), axis=1, keepdims=True))\n",
        "        self.output_data = softmax_output\n",
        "        self.input_data = input_X\n",
        "        return softmax_output\n",
        "\n",
        "    def compute(self,output_gradient):\n",
        "        return (output_gradient - (np.sum((output_gradient * self.output_data), axis=1, keepdims=True)))\n",
        "\n",
        "    def backward_pass(self, output_gradient, learning_rate=0.5):\n",
        "        # Gradient of the softmax function\n",
        "        gradient_input = self.output_data * (output_gradient - (np.sum((output_gradient * self.output_data), axis=1, keepdims=True)))\n",
        "\n",
        "        self.input_gradient=gradient_input\n",
        "        self.output_gradient=output_gradient\n",
        "        return gradient_input"
      ]
    },
    {
      "cell_type": "markdown",
      "metadata": {
        "id": "4q4bA4PY6oyt"
      },
      "source": [
        "# Categorical Cross Entropy Loss"
      ]
    },
    {
      "cell_type": "code",
      "execution_count": 101,
      "metadata": {
        "id": "fmHNrXOD6snC"
      },
      "outputs": [],
      "source": [
        "class CategoricalCrossEntropyLoss:\n",
        "    EPS=1e-12\n",
        "    def __init__(self):\n",
        "        self.original_labels = None\n",
        "        self.pred_prob = None\n",
        "        self.mean_batch_loss=None\n",
        "        self.output_gradient=None\n",
        "\n",
        "    def forward_pass(self, predicted_prob, original_labels):\n",
        "        self.pred_prob = predicted_prob\n",
        "        self.original_labels = original_labels\n",
        "\n",
        "        # Clip predicted probabilities to avoid log(0) and divide-by-zero errors\n",
        "        clipped_prob = np.clip(predicted_prob, 1e-12, 1.0)\n",
        "\n",
        "        # Calculate categorical cross-entropy\n",
        "        loss_of_the_batch = -np.sum((original_labels * np.log(clipped_prob)), axis=1)\n",
        "        self.mean_batch_loss = np.mean(loss_of_the_batch)\n",
        "\n",
        "        return self.mean_batch_loss\n",
        "\n",
        "    def backward_pass(self):\n",
        "      self.output_gradient = self.pred_prob - self.original_labels\n",
        "      return self.output_gradient"
      ]
    },
    {
      "cell_type": "markdown",
      "metadata": {
        "id": "2TeqKY4r6vDI"
      },
      "source": [
        "# Neural Network"
      ]
    },
    {
      "cell_type": "code",
      "execution_count": 102,
      "metadata": {
        "id": "SCtiFaq56yUE"
      },
      "outputs": [],
      "source": [
        "class NeuralNetwork:\n",
        "    def __init__(self, number_of_layers, neurons_in_each_layer, input_dimensions, number_of_classes, dropout_rate=0.1,learning_rate=0.001):\n",
        "        #This is the architecture class\n",
        "        #the number of features in the input\n",
        "        self.input_features = input_dimensions\n",
        "        #For classification,the number of labels to classify\n",
        "        self.number_of_classes = number_of_classes\n",
        "        #total number of layers which include input+hidden layers\n",
        "        self.number_of_total_layers = number_of_layers\n",
        "        #an array to hold the number of neurons in each layer\n",
        "        self.number_of_neurons_in_each_layer = neurons_in_each_layer\n",
        "\n",
        "        #set a dropout rate\n",
        "        self.dropout_rate = dropout_rate\n",
        "        self.learning_rate=learning_rate\n",
        "        #store all the layers in this arr\n",
        "        self.all_layers = []\n",
        "\n",
        "        # Automatically build the layers for classification problem\n",
        "        self.build_the_network()\n",
        "\n",
        "    def build_a_single_layer(self, input_dim, output_dim):\n",
        "        dense_layer = DenseLayer(input_dim=input_dim, output_dim=output_dim)\n",
        "        batchNormalization_layer = BatchNormalization(input_dimension=output_dim)\n",
        "        activation_function_layer = RELU()\n",
        "        dropout_layer = Dropout(dropout_rate=self.dropout_rate)\n",
        "\n",
        "        return [dense_layer,batchNormalization_layer, activation_function_layer,dropout_layer]\n",
        "\n",
        "    def build_the_hidden_network(self):\n",
        "        number_of_previous_layer_neurons = self.input_features\n",
        "\n",
        "        for index in range(self.number_of_total_layers):\n",
        "            current_layer = self.build_a_single_layer(number_of_previous_layer_neurons, self.number_of_neurons_in_each_layer[index])\n",
        "            number_of_previous_layer_neurons = self.number_of_neurons_in_each_layer[index]\n",
        "            self.all_layers.extend(current_layer)\n",
        "        return number_of_previous_layer_neurons\n",
        "\n",
        "    def build_the_output_layer(self,number_of_previous_layer_neurons):\n",
        "        self.all_layers.append(DenseLayer(input_dim=number_of_previous_layer_neurons, output_dim=self.number_of_classes))\n",
        "        self.all_layers.append(Softmax())\n",
        "\n",
        "\n",
        "    def build_the_network(self):\n",
        "        number_of_previous_layer_neurons = self.build_the_hidden_network()\n",
        "\n",
        "        #this is the final layer for which activation is different\n",
        "        self.build_the_output_layer(number_of_previous_layer_neurons)\n",
        "\n",
        "\n",
        "    def forward_pass(self, input_data, training=True):\n",
        "\n",
        "        for l in self.all_layers:\n",
        "            if isinstance(l, Dropout):\n",
        "                input_data = l.forward_pass(input_data, training=training)\n",
        "            else:\n",
        "                input_data = l.forward_pass(input_data)\n",
        "        return input_data\n",
        "\n",
        "    def backward_pass(self, gradient_of_the_loss, learning_rate, optimizer):\n",
        "\n",
        "        for layer in reversed(self.all_layers):\n",
        "            gradient_of_the_loss = layer.backward_pass(gradient_of_the_loss, learning_rate)\n",
        "            if isinstance(layer, DenseLayer):\n",
        "                optimizer.update(layer)\n",
        "\n",
        "    def train_the_network(self, X, true_labels, optimizer, loss_function, learning_rate):\n",
        "\n",
        "        # Forward pass\n",
        "        predicted_prob = self.forward_pass(X, training=True)\n",
        "\n",
        "        # Compute loss\n",
        "        loss_val = loss_function.forward_pass(predicted_prob, true_labels)\n",
        "\n",
        "        # Backward pass\n",
        "        gradient_of_the_loss = loss_function.backward_pass()\n",
        "        self.backward_pass(gradient_of_the_loss, learning_rate, optimizer)\n",
        "\n",
        "        return loss_val\n",
        "\n",
        "    def predict(self, input_data):\n",
        "        ans=self.forward_pass(input_data, training=False)\n",
        "        return ans\n",
        "\n",
        "    def get_weights(self):\n",
        "        \"\"\"\n",
        "        Extract weights from all Dense layers in the network.\n",
        "        \"\"\"\n",
        "        weights_list = []\n",
        "        for layer in self.all_layers:\n",
        "            if isinstance(layer, DenseLayer):\n",
        "                # Store weights and biases as a dictionary for each DenseLayer\n",
        "                weights_list.append({\n",
        "                    'weights': layer.weight_matrix,\n",
        "                    'biases': layer.bias\n",
        "                })\n",
        "        return weights_list\n",
        "\n",
        "    def load_weights(self, weights):\n",
        "        \"\"\"\n",
        "        Load weights into the layers of the neural network.\n",
        "        \"\"\"\n",
        "        weight_index = 0\n",
        "        for layer in self.all_layers:\n",
        "            if isinstance(layer, DenseLayer):\n",
        "                # Set weights and biases for the DenseLayer\n",
        "                layer.weight_matrix = weights[weight_index]['weights']\n",
        "                layer.bias = weights[weight_index]['biases']\n",
        "                weight_index += 1\n",
        "\n",
        "        print(\"Weights loaded successfully into the network.\")"
      ]
    },
    {
      "cell_type": "markdown",
      "metadata": {
        "id": "YV6hn4Ta62TN"
      },
      "source": [
        "# Load the Dataset"
      ]
    },
    {
      "cell_type": "code",
      "execution_count": 103,
      "metadata": {
        "colab": {
          "base_uri": "https://localhost:8080/"
        },
        "id": "FeYlwG-667jq",
        "outputId": "bd1f4643-c08b-43c9-c5c4-1b1b94a11b31"
      },
      "outputs": [
        {
          "output_type": "stream",
          "name": "stdout",
          "text": [
            "train images shape : (60000, 28, 28)\n"
          ]
        }
      ],
      "source": [
        "from sklearn.preprocessing import MinMaxScaler\n",
        "from torchvision import datasets, transforms\n",
        "from sklearn.model_selection import train_test_split\n",
        "import numpy as np\n",
        "import pickle\n",
        "\n",
        "\n",
        "transform = transforms.ToTensor()\n",
        "\n",
        "# load the training and testing dataset\n",
        "train_data = datasets.FashionMNIST(root='./data', train=True, download=True, transform=transform)\n",
        "test_data = datasets.FashionMNIST(root='./data', train=False, download=True, transform=transform)\n",
        "\n",
        "# images now are in tensor format\n",
        "train_images_tensor = train_data.data.numpy()\n",
        "print(f\"train images shape : {train_images_tensor.shape}\")\n",
        "train_images_reshaped = train_images_tensor.reshape(train_images_tensor.shape[0], 28 * 28)\n",
        "\n",
        "test_images_tensor = test_data.data.numpy()\n",
        "test_images_reshaped = test_images_tensor.reshape(test_images_tensor.shape[0], 28 * 28)\n",
        "\n",
        "train_features = train_images_reshaped\n",
        "test_features = test_images_reshaped\n",
        "\n",
        "train_targets = train_data.targets.numpy()\n",
        "test_targets = test_data.targets.numpy()\n",
        "\n",
        "# Scale the data using StandardScaler\n",
        "scaler = MinMaxScaler()\n",
        "train_features = scaler.fit_transform(train_features)\n",
        "test_features = scaler.transform(test_features)\n",
        "# Save the scaler to a file\n",
        "with open('scaler.pkl', 'wb') as file:\n",
        "    pickle.dump(scaler, file)\n",
        "\n",
        "# Split training data into training and validation sets\n",
        "train_features, val_features, train_targets, val_targets = train_test_split(train_features, train_targets, test_size=0.2, random_state=42)"
      ]
    },
    {
      "cell_type": "markdown",
      "metadata": {
        "id": "2oGuqysF6-Yy"
      },
      "source": [
        "# Function to convert the labels to One-hot Encoded Labels"
      ]
    },
    {
      "cell_type": "code",
      "execution_count": 104,
      "metadata": {
        "id": "Qw_Ok-Eb7FaJ"
      },
      "outputs": [],
      "source": [
        "import numpy as np\n",
        "\n",
        "def one_hot_encode(labels, num_classes):\n",
        "    #creates an identity matrix\n",
        "    identity_matrix = np.eye(num_classes)\n",
        "    #changes the matrix according to labels\n",
        "    one_hot_encoded_labels = identity_matrix[labels]\n",
        "    return one_hot_encoded_labels"
      ]
    },
    {
      "cell_type": "markdown",
      "metadata": {
        "id": "b_PphdKA7JMT"
      },
      "source": [
        "# Parameters for Neural Network"
      ]
    },
    {
      "cell_type": "code",
      "execution_count": 105,
      "metadata": {
        "id": "U094jJ8v7Nmd"
      },
      "outputs": [],
      "source": [
        "# Second Model Architecture\n",
        "number_of_layers = 4\n",
        "neurons_in_each_layer = [32,64,64,32]\n",
        "input_dimensions = train_features.shape[1]\n",
        "number_of_classes = 10\n",
        "d_rate = 0.3  # Increase dropout to reduce overfitting\n",
        "adam_learning_rate = 0.004\n",
        "learning_rate = 0.005\n",
        "number_of_epochs = 26  # Keep epochs consistent for fair comparison"
      ]
    },
    {
      "cell_type": "markdown",
      "metadata": {
        "id": "czPWtkm77R7d"
      },
      "source": [
        "# Convert the targets into one-hot encoded labels"
      ]
    },
    {
      "cell_type": "code",
      "execution_count": 106,
      "metadata": {
        "id": "DoJ8Czcy7WNr"
      },
      "outputs": [],
      "source": [
        "# One-hot encoding the labels for training, validation, and test sets\n",
        "train_targets_one_hot = one_hot_encode(train_targets, num_classes=number_of_classes)\n",
        "val_targets_one_hot = one_hot_encode(val_targets, num_classes=number_of_classes)\n",
        "test_targets_one_hot = one_hot_encode(test_targets, num_classes=number_of_classes)"
      ]
    },
    {
      "cell_type": "markdown",
      "metadata": {
        "id": "1UPHLPrZ7Y68"
      },
      "source": [
        "# Neural Network Initialization"
      ]
    },
    {
      "cell_type": "code",
      "execution_count": 107,
      "metadata": {
        "id": "2CrbscnM7edh"
      },
      "outputs": [],
      "source": [
        "neural_network = NeuralNetwork(\n",
        "    number_of_layers=number_of_layers,\n",
        "    neurons_in_each_layer=neurons_in_each_layer,\n",
        "    input_dimensions=input_dimensions,\n",
        "    number_of_classes=number_of_classes,\n",
        "    dropout_rate=d_rate\n",
        ")\n",
        "\n",
        "adam_optimizer = AdamOptimizer(learning_rate=adam_learning_rate)\n",
        "cross_entropy_loss = CategoricalCrossEntropyLoss()"
      ]
    },
    {
      "cell_type": "markdown",
      "metadata": {
        "id": "AqJxjv6k7hwy"
      },
      "source": [
        "# Neural Network Training"
      ]
    },
    {
      "cell_type": "code",
      "execution_count": 89,
      "metadata": {
        "colab": {
          "base_uri": "https://localhost:8080/"
        },
        "id": "GRyMixpY7l6-",
        "outputId": "c0c29b46-4beb-4ac1-e600-a99b49766bb0"
      },
      "outputs": [
        {
          "output_type": "stream",
          "name": "stdout",
          "text": [
            "Starting Training Process...\n"
          ]
        },
        {
          "output_type": "stream",
          "name": "stderr",
          "text": [
            "Training Progress:   8%|▊         | 2/26 [00:04<00:59,  2.50s/it]"
          ]
        },
        {
          "output_type": "stream",
          "name": "stdout",
          "text": [
            "Epoch 2/26 - Training Loss: 2.2546, Training Accuracy: 0.3861, Validation Loss: 2.0037, Validation Accuracy: 0.3874, Macro-F1: 0.3273\n"
          ]
        },
        {
          "output_type": "stream",
          "name": "stderr",
          "text": [
            "Training Progress:  15%|█▌        | 4/26 [00:11<01:06,  3.03s/it]"
          ]
        },
        {
          "output_type": "stream",
          "name": "stdout",
          "text": [
            "Epoch 4/26 - Training Loss: 2.0744, Training Accuracy: 0.4993, Validation Loss: 1.6827, Validation Accuracy: 0.4969, Macro-F1: 0.4086\n"
          ]
        },
        {
          "output_type": "stream",
          "name": "stderr",
          "text": [
            "Training Progress:  23%|██▎       | 6/26 [00:16<00:55,  2.77s/it]"
          ]
        },
        {
          "output_type": "stream",
          "name": "stdout",
          "text": [
            "Epoch 6/26 - Training Loss: 1.8781, Training Accuracy: 0.4726, Validation Loss: 1.5003, Validation Accuracy: 0.4632, Macro-F1: 0.3957\n"
          ]
        },
        {
          "output_type": "stream",
          "name": "stderr",
          "text": [
            "Training Progress:  31%|███       | 8/26 [00:21<00:46,  2.56s/it]"
          ]
        },
        {
          "output_type": "stream",
          "name": "stdout",
          "text": [
            "Epoch 8/26 - Training Loss: 1.9675, Training Accuracy: 0.5246, Validation Loss: 1.4029, Validation Accuracy: 0.5273, Macro-F1: 0.4408\n"
          ]
        },
        {
          "output_type": "stream",
          "name": "stderr",
          "text": [
            "Training Progress:  38%|███▊      | 10/26 [00:28<00:48,  3.06s/it]"
          ]
        },
        {
          "output_type": "stream",
          "name": "stdout",
          "text": [
            "Epoch 10/26 - Training Loss: 1.6463, Training Accuracy: 0.6723, Validation Loss: 1.1246, Validation Accuracy: 0.6689, Macro-F1: 0.6422\n"
          ]
        },
        {
          "output_type": "stream",
          "name": "stderr",
          "text": [
            "Training Progress:  46%|████▌     | 12/26 [00:32<00:37,  2.66s/it]"
          ]
        },
        {
          "output_type": "stream",
          "name": "stdout",
          "text": [
            "Epoch 12/26 - Training Loss: 1.5131, Training Accuracy: 0.6835, Validation Loss: 1.0299, Validation Accuracy: 0.6773, Macro-F1: 0.6458\n"
          ]
        },
        {
          "output_type": "stream",
          "name": "stderr",
          "text": [
            "Training Progress:  54%|█████▍    | 14/26 [00:37<00:29,  2.49s/it]"
          ]
        },
        {
          "output_type": "stream",
          "name": "stdout",
          "text": [
            "Epoch 14/26 - Training Loss: 1.4312, Training Accuracy: 0.6754, Validation Loss: 0.9845, Validation Accuracy: 0.6637, Macro-F1: 0.6316\n"
          ]
        },
        {
          "output_type": "stream",
          "name": "stderr",
          "text": [
            "Training Progress:  62%|██████▏   | 16/26 [00:44<00:29,  2.94s/it]"
          ]
        },
        {
          "output_type": "stream",
          "name": "stdout",
          "text": [
            "Epoch 16/26 - Training Loss: 1.3689, Training Accuracy: 0.6902, Validation Loss: 0.9524, Validation Accuracy: 0.6800, Macro-F1: 0.6532\n"
          ]
        },
        {
          "output_type": "stream",
          "name": "stderr",
          "text": [
            "Training Progress:  69%|██████▉   | 18/26 [00:49<00:21,  2.63s/it]"
          ]
        },
        {
          "output_type": "stream",
          "name": "stdout",
          "text": [
            "Epoch 18/26 - Training Loss: 1.3169, Training Accuracy: 0.7249, Validation Loss: 0.8614, Validation Accuracy: 0.7144, Macro-F1: 0.6857\n"
          ]
        },
        {
          "output_type": "stream",
          "name": "stderr",
          "text": [
            "Training Progress:  77%|███████▋  | 20/26 [00:53<00:14,  2.46s/it]"
          ]
        },
        {
          "output_type": "stream",
          "name": "stdout",
          "text": [
            "Epoch 20/26 - Training Loss: 1.1668, Training Accuracy: 0.7454, Validation Loss: 0.8034, Validation Accuracy: 0.7357, Macro-F1: 0.7071\n"
          ]
        },
        {
          "output_type": "stream",
          "name": "stderr",
          "text": [
            "Training Progress:  85%|████████▍ | 22/26 [01:00<00:11,  2.92s/it]"
          ]
        },
        {
          "output_type": "stream",
          "name": "stdout",
          "text": [
            "Epoch 22/26 - Training Loss: 1.0968, Training Accuracy: 0.7488, Validation Loss: 0.7803, Validation Accuracy: 0.7407, Macro-F1: 0.7133\n"
          ]
        },
        {
          "output_type": "stream",
          "name": "stderr",
          "text": [
            "Training Progress:  92%|█████████▏| 24/26 [01:05<00:05,  2.60s/it]"
          ]
        },
        {
          "output_type": "stream",
          "name": "stdout",
          "text": [
            "Epoch 24/26 - Training Loss: 1.0511, Training Accuracy: 0.7614, Validation Loss: 0.7506, Validation Accuracy: 0.7551, Macro-F1: 0.7346\n"
          ]
        },
        {
          "output_type": "stream",
          "name": "stderr",
          "text": [
            "Training Progress: 100%|██████████| 26/26 [01:10<00:00,  2.71s/it]"
          ]
        },
        {
          "output_type": "stream",
          "name": "stdout",
          "text": [
            "Epoch 26/26 - Training Loss: 1.0061, Training Accuracy: 0.7830, Validation Loss: 0.7150, Validation Accuracy: 0.7743, Macro-F1: 0.7605\n",
            "Training Process Complete.\n",
            "Training and validation metrics have been saved to training_report.txt\n",
            "The best confusion matrix has been saved to best_confusion_matrix.txt\n"
          ]
        },
        {
          "output_type": "stream",
          "name": "stderr",
          "text": [
            "\n"
          ]
        }
      ],
      "source": [
        "from tqdm import tqdm\n",
        "from sklearn.metrics import f1_score, accuracy_score, confusion_matrix\n",
        "import numpy as np\n",
        "\n",
        "# Create a file to store the results\n",
        "output_file = \"training_report.txt\"\n",
        "confusion_matrix_file = \"best_confusion_matrix.txt\"\n",
        "best_macro_f1 = -1  # Initialize to keep track of the best macro-F1 score\n",
        "best_conf_matrix = None\n",
        "\n",
        "with open(output_file, \"w\") as file:\n",
        "    file.write(\"Epoch\\tTraining Loss\\tTraining Accuracy\\tValidation Loss\\tValidation Accuracy\\tValidation Macro-F1\\n\")\n",
        "\n",
        "print(\"Starting Training Process...\")\n",
        "training_losses = []\n",
        "training_accuracies = []\n",
        "validation_losses = []\n",
        "validation_accuracies = []\n",
        "validation_macro_f1_scores = []\n",
        "\n",
        "for epoch in tqdm(range(number_of_epochs), desc=\"Training Progress\"):\n",
        "    # Train the network and calculate training loss\n",
        "    training_loss = neural_network.train_the_network(\n",
        "        X=train_features,\n",
        "        true_labels=train_targets_one_hot,\n",
        "        optimizer=adam_optimizer,\n",
        "        loss_function=cross_entropy_loss,\n",
        "        learning_rate=learning_rate\n",
        "    )\n",
        "\n",
        "    # Store the training loss\n",
        "    training_losses.append(training_loss)\n",
        "\n",
        "    # Calculate training accuracy\n",
        "    train_predictions = neural_network.predict(train_features)\n",
        "    train_pred_classes = np.argmax(train_predictions, axis=1)\n",
        "    train_true_classes = np.argmax(train_targets_one_hot, axis=1)\n",
        "    train_accuracy = accuracy_score(train_true_classes, train_pred_classes)\n",
        "    training_accuracies.append(train_accuracy)\n",
        "\n",
        "    # Calculate validation loss and accuracy\n",
        "    val_predictions = neural_network.predict(val_features)\n",
        "    val_pred_classes = np.argmax(val_predictions, axis=1)\n",
        "    val_loss = cross_entropy_loss.forward_pass(val_predictions, one_hot_encode(val_targets, number_of_classes))\n",
        "    validation_losses.append(val_loss)\n",
        "\n",
        "    correct_pred = np.sum(val_pred_classes == val_targets)\n",
        "    validation_sample_size = len(val_targets)\n",
        "    val_accuracy = (correct_pred / validation_sample_size)\n",
        "    validation_accuracies.append(val_accuracy)\n",
        "\n",
        "    # Calculate validation macro-F1 score\n",
        "    val_macro_f1 = f1_score(val_targets, val_pred_classes, average='macro')\n",
        "    validation_macro_f1_scores.append(val_macro_f1)\n",
        "\n",
        "    # Generate confusion matrix for this epoch\n",
        "    current_conf_matrix = confusion_matrix(val_targets, val_pred_classes)\n",
        "\n",
        "    # Check if this epoch has the best macro-F1 score and update accordingly\n",
        "    if val_macro_f1 > best_macro_f1:\n",
        "        best_macro_f1 = val_macro_f1\n",
        "        best_conf_matrix = current_conf_matrix\n",
        "\n",
        "    # Save the epoch details to the text file\n",
        "    with open(output_file, \"a\") as file:\n",
        "        file.write(f\"{epoch + 1}\\t{training_loss:.4f}\\t{train_accuracy:.4f}\\t{val_loss:.4f}\\t{val_accuracy:.4f}\\t{val_macro_f1:.4f}\\n\")\n",
        "\n",
        "    # Print progress every 2 epochs\n",
        "    if (epoch + 1) % 2 == 0:\n",
        "        print(f\"Epoch {epoch + 1}/{number_of_epochs} - Training Loss: {training_loss:.4f}, Training Accuracy: {train_accuracy:.4f}, \"\n",
        "              f\"Validation Loss: {val_loss:.4f}, Validation Accuracy: {val_accuracy:.4f}, Macro-F1: {val_macro_f1:.4f}\")\n",
        "\n",
        "# Write the best confusion matrix to a separate file\n",
        "if best_conf_matrix is not None:\n",
        "    with open(confusion_matrix_file, \"w\") as file:\n",
        "        file.write(\"Best Confusion Matrix (based on highest validation Macro-F1):\\n\")\n",
        "        np.savetxt(file, best_conf_matrix, fmt='%d')\n",
        "\n",
        "print(\"Training Process Complete.\")\n",
        "print(f\"Training and validation metrics have been saved to {output_file}\")\n",
        "print(f\"The best confusion matrix has been saved to {confusion_matrix_file}\")"
      ]
    },
    {
      "cell_type": "markdown",
      "metadata": {
        "id": "_0KrRyg67rdk"
      },
      "source": [
        "# Plot Accuracy and Loss curves"
      ]
    },
    {
      "cell_type": "code",
      "execution_count": 90,
      "metadata": {
        "colab": {
          "base_uri": "https://localhost:8080/",
          "height": 718
        },
        "id": "H5zXvvv47ols",
        "outputId": "af9227b1-893d-475e-b18d-2f852b83b0ec"
      },
      "outputs": [
        {
          "output_type": "display_data",
          "data": {
            "text/plain": [
              "<Figure size 1400x800 with 1 Axes>"
            ],
            "image/png": "[encoded data removed]"
          },
          "metadata": {}
        }
      ],
      "source": [
        "import matplotlib.pyplot as plt\n",
        "\n",
        "# Function to plot all metrics on the same graph\n",
        "def plot_metrics_over_epochs(training_losses, training_accuracies, validation_losses, validation_accuracies, validation_macro_f1_scores):\n",
        "    epochs = range(1, len(training_losses) + 1)  # x-axis for epochs\n",
        "\n",
        "    plt.figure(figsize=(14, 8))\n",
        "\n",
        "    # Plot each metric\n",
        "    plt.plot(epochs, training_losses, label='Training Loss', linestyle='-', color='blue')\n",
        "    plt.plot(epochs, validation_losses, label='Validation Loss', linestyle='--', color='red')\n",
        "    plt.plot(epochs, training_accuracies, label='Training Accuracy', linestyle='-', color='green')\n",
        "    plt.plot(epochs, validation_accuracies, label='Validation Accuracy', linestyle='--', color='orange')\n",
        "    plt.plot(epochs, validation_macro_f1_scores, label='Validation Macro-F1', linestyle='-', color='purple')\n",
        "\n",
        "    # Title and labels\n",
        "    plt.title('Training and Validation Metrics Over Epochs')\n",
        "    plt.xlabel('Epochs')\n",
        "    plt.ylabel('Metric Values')\n",
        "    plt.legend(loc='best')\n",
        "    plt.grid(True)\n",
        "\n",
        "    # Display the plot\n",
        "    plt.show()\n",
        "\n",
        "# Call the function with the recorded metrics\n",
        "plot_metrics_over_epochs(\n",
        "    training_losses=training_losses,\n",
        "    training_accuracies=training_accuracies,\n",
        "    validation_losses=validation_losses,\n",
        "    validation_accuracies=validation_accuracies,\n",
        "    validation_macro_f1_scores=validation_macro_f1_scores\n",
        ")"
      ]
    },
    {
      "cell_type": "markdown",
      "metadata": {
        "id": "QVJML9ko70d1"
      },
      "source": [
        "# Metrics"
      ]
    },
    {
      "cell_type": "code",
      "execution_count": 91,
      "metadata": {
        "colab": {
          "base_uri": "https://localhost:8080/",
          "height": 1000
        },
        "id": "zpc62wiX79A9",
        "outputId": "04d6178a-3137-4099-98d0-f2d6ff10e7b6"
      },
      "outputs": [
        {
          "output_type": "stream",
          "name": "stdout",
          "text": [
            "Test Accuracy: 77.41%\n",
            "Confusion Matrix:\n",
            " [[867   1   6  64  18   3  22   0  19   0]\n",
            " [ 10 941  15  30   1   0   1   0   2   0]\n",
            " [ 35   0 597  10 314   1  32   0  10   1]\n",
            " [ 69  10   6 857  40   1  13   0   4   0]\n",
            " [ 28   1  87  60 775   0  39   0   8   2]\n",
            " [  2   0   1   1   0 788   0 148  10  50]\n",
            " [343   0 114  38 331   1 139   0  33   1]\n",
            " [  1   0   0   0   0  22   0 904   1  72]\n",
            " [ 11   2   3   9   1   9  17   5 938   5]\n",
            " [  0   0   0   1   0  11   0  52   1 935]]\n"
          ]
        },
        {
          "output_type": "display_data",
          "data": {
            "text/plain": [
              "<Figure size 1000x800 with 2 Axes>"
            ],
            "image/png": "[encoded data removed]"
          },
          "metadata": {}
        },
        {
          "output_type": "stream",
          "name": "stdout",
          "text": [
            "\n",
            "Weighted Precision: 0.77\n",
            "Weighted Recall: 0.77\n",
            "Weighted F1-Score: 0.76\n",
            "\n",
            "Classification Report:\n",
            "\n",
            "              precision    recall  f1-score   support\n",
            "\n",
            "           0       0.63      0.87      0.73      1000\n",
            "           1       0.99      0.94      0.96      1000\n",
            "           2       0.72      0.60      0.65      1000\n",
            "           3       0.80      0.86      0.83      1000\n",
            "           4       0.52      0.78      0.62      1000\n",
            "           5       0.94      0.79      0.86      1000\n",
            "           6       0.53      0.14      0.22      1000\n",
            "           7       0.82      0.90      0.86      1000\n",
            "           8       0.91      0.94      0.93      1000\n",
            "           9       0.88      0.94      0.91      1000\n",
            "\n",
            "    accuracy                           0.77     10000\n",
            "   macro avg       0.77      0.77      0.76     10000\n",
            "weighted avg       0.77      0.77      0.76     10000\n",
            "\n"
          ]
        }
      ],
      "source": [
        "from sklearn.metrics import confusion_matrix, classification_report, precision_score, recall_score, f1_score\n",
        "import matplotlib.pyplot as plt\n",
        "import seaborn as sns\n",
        "import numpy as np\n",
        "\n",
        "test_pred = neural_network.predict(test_features)\n",
        "test_predicted_classes = np.argmax(test_pred, axis=1)\n",
        "\n",
        "test_accuracy = np.mean(test_predicted_classes == test_targets) * 100\n",
        "print(f\"Test Accuracy: {test_accuracy:.2f}%\")\n",
        "\n",
        "\n",
        "conf_matrix = confusion_matrix(test_targets, test_predicted_classes)\n",
        "print(\"Confusion Matrix:\\n\", conf_matrix)\n",
        "\n",
        "# Plot confusion matrix\n",
        "plt.figure(figsize=(10, 8))\n",
        "sns.heatmap(conf_matrix, annot=True, fmt='d', cmap='Blues', xticklabels=np.unique(test_targets), yticklabels=np.unique(test_targets))\n",
        "plt.title('Confusion Matrix')\n",
        "plt.xlabel('Predicted Labels')\n",
        "plt.ylabel('True Labels')\n",
        "plt.show()\n",
        "\n",
        "# Calculate and print weighted precision, recall, and F1-score\n",
        "\n",
        "wt_precision = precision_score(test_targets, test_predicted_classes, average='weighted')\n",
        "wt_f1 = f1_score(test_targets, test_predicted_classes, average='weighted')\n",
        "wt_recall = recall_score(test_targets, test_predicted_classes, average='weighted')\n",
        "\n",
        "\n",
        "print(f\"\\nWeighted Precision: {wt_precision:.2f}\")\n",
        "print(f\"Weighted Recall: {wt_recall:.2f}\")\n",
        "print(f\"Weighted F1-Score: {wt_f1:.2f}\")\n",
        "\n",
        "# Detailed classification report (includes all metrics including macro and weighted averages)\n",
        "print(\"\\nClassification Report:\\n\")\n",
        "print(classification_report(test_targets, test_predicted_classes))"
      ]
    },
    {
      "cell_type": "markdown",
      "metadata": {
        "id": "vb59BGRb8Ajn"
      },
      "source": [
        "# Saving the model"
      ]
    },
    {
      "cell_type": "code",
      "execution_count": 92,
      "metadata": {
        "colab": {
          "base_uri": "https://localhost:8080/"
        },
        "id": "-iTdOPmR8CpE",
        "outputId": "4fb50571-69f1-431b-e5a6-f73b03a9d9da"
      },
      "outputs": [
        {
          "output_type": "stream",
          "name": "stdout",
          "text": [
            "Drive already mounted at /content/drive; to attempt to forcibly remount, call drive.mount(\"/content/drive\", force_remount=True).\n",
            "Neural network weights saved to neural_network_weights.pkl in Google Drive\n"
          ]
        }
      ],
      "source": [
        "from google.colab import drive\n",
        "import pickle\n",
        "\n",
        "drive.mount('/content/drive')\n",
        "\n",
        "file_path = '/content/drive/My Drive/model_weights.pkl'\n",
        "\n",
        "weights = neural_network.get_weights()  # Adjust this according to how weights are stored in your class\n",
        "\n",
        "# Save only the weights to a pickle file\n",
        "with open(file_path, 'wb') as file:\n",
        "    pickle.dump(weights, file)\n",
        "\n",
        "print(\"Neural network weights saved to neural_network_weights.pkl in Google Drive\")"
      ]
    },
    {
      "cell_type": "markdown",
      "metadata": {
        "id": "4b8PbBqiLWnT"
      },
      "source": [
        "# Loading the model to check performance"
      ]
    },
    {
      "cell_type": "code",
      "execution_count": 93,
      "metadata": {
        "colab": {
          "base_uri": "https://localhost:8080/"
        },
        "id": "I9CU2mTxLbgO",
        "outputId": "dc963a07-d007-4119-910d-fa47e3e3eb65"
      },
      "outputs": [
        {
          "output_type": "stream",
          "name": "stdout",
          "text": [
            "Weights loaded successfully into the network.\n",
            "Test Accuracy: 71.01%\n",
            "Confusion Matrix:\n",
            " [[904   1  15  39   7   2   3   0  24   5]\n",
            " [ 17 936  16  28   0   0   1   0   2   0]\n",
            " [ 92   0 616   6 178   0  85   0  15   8]\n",
            " [160  10  27 788   7   0   2   0   4   2]\n",
            " [167   1 108  23 250   0 436   0   7   8]\n",
            " [  1   0   5   1   0 614   0 301  12  66]\n",
            " [529   0 151  19  63   5 188   1  37   7]\n",
            " [  0   0   0   0   0   8   0 922   2  68]\n",
            " [ 16   2   6   8   2   4   0   5 947  10]\n",
            " [  0   0   2   0   0   2   0  59   1 936]]\n",
            "\n",
            "Weighted Precision: 0.72\n",
            "Weighted Recall: 0.71\n",
            "Weighted F1-Score: 0.70\n",
            "\n",
            "Classification Report:\n",
            "\n",
            "              precision    recall  f1-score   support\n",
            "\n",
            "           0       0.48      0.90      0.63      1000\n",
            "           1       0.99      0.94      0.96      1000\n",
            "           2       0.65      0.62      0.63      1000\n",
            "           3       0.86      0.79      0.82      1000\n",
            "           4       0.49      0.25      0.33      1000\n",
            "           5       0.97      0.61      0.75      1000\n",
            "           6       0.26      0.19      0.22      1000\n",
            "           7       0.72      0.92      0.81      1000\n",
            "           8       0.90      0.95      0.92      1000\n",
            "           9       0.84      0.94      0.89      1000\n",
            "\n",
            "    accuracy                           0.71     10000\n",
            "   macro avg       0.72      0.71      0.70     10000\n",
            "weighted avg       0.72      0.71      0.70     10000\n",
            "\n"
          ]
        }
      ],
      "source": [
        "from sklearn.metrics import confusion_matrix, classification_report, precision_score, recall_score, f1_score\n",
        "import numpy as np\n",
        "import pickle\n",
        "\n",
        "# Define the new neural network instance\n",
        "neural_network_test = NeuralNetwork(\n",
        "    number_of_layers=number_of_layers,  # Replace with actual number of layers\n",
        "    neurons_in_each_layer=neurons_in_each_layer,  # Replace with actual array of neurons per layer\n",
        "    input_dimensions=input_dimensions,  # Replace with actual input dimensions\n",
        "    number_of_classes=number_of_classes,  # Replace with actual number of classes\n",
        "    dropout_rate=d_rate  # Replace with actual dropout rate if different\n",
        ")\n",
        "\n",
        "# Load weights from a pickle file\n",
        "weights_file_path = '/content/drive/My Drive/model_weights.pkl'\n",
        "\n",
        "with open(weights_file_path, 'rb') as file:\n",
        "    loaded_weights = pickle.load(file)\n",
        "\n",
        "# Load the weights into the newly defined neural network\n",
        "neural_network_test.load_weights(loaded_weights)\n",
        "\n",
        "# Perform predictions and evaluate\n",
        "test_pred = neural_network_test.predict(test_features)\n",
        "test_predicted_classes = np.argmax(test_pred, axis=1)\n",
        "\n",
        "# Calculate test accuracy\n",
        "test_accuracy = np.mean(test_predicted_classes == test_targets) * 100\n",
        "print(f\"Test Accuracy: {test_accuracy:.2f}%\")\n",
        "\n",
        "# Generate the confusion matrix\n",
        "conf_matrix = confusion_matrix(test_targets, test_predicted_classes)\n",
        "print(\"Confusion Matrix:\\n\", conf_matrix)\n",
        "\n",
        "# Calculate and print weighted precision, recall, and F1-score\n",
        "wt_precision = precision_score(test_targets, test_predicted_classes, average='weighted')\n",
        "wt_f1 = f1_score(test_targets, test_predicted_classes, average='weighted')\n",
        "wt_recall = recall_score(test_targets, test_predicted_classes, average='weighted')\n",
        "\n",
        "print(f\"\\nWeighted Precision: {wt_precision:.2f}\")\n",
        "print(f\"Weighted Recall: {wt_recall:.2f}\")\n",
        "print(f\"Weighted F1-Score: {wt_f1:.2f}\")\n",
        "\n",
        "# Print detailed classification report\n",
        "print(\"\\nClassification Report:\\n\")\n",
        "print(classification_report(test_targets, test_predicted_classes))"
      ]
    },
    {
      "cell_type": "markdown",
      "source": [
        "# Online task"
      ],
      "metadata": {
        "id": "CQCnLLOVbf6D"
      }
    },
    {
      "cell_type": "code",
      "source": [
        "import pickle\n",
        "import numpy as np\n",
        "from sklearn.metrics import accuracy_score, confusion_matrix, classification_report, precision_score, recall_score, f1_score\n",
        "from sklearn.preprocessing import MinMaxScaler\n",
        "import torch\n",
        "\n",
        "# Step 1: Load the pre-trained weights from the pkl file\n",
        "with open('/content/drive/My Drive/model_weights.pkl', 'rb') as file:\n",
        "    loaded_weights = pickle.load(file)\n",
        "\n",
        "# Initialize the FNN and load the weights\n",
        "neural_network.load_weights(loaded_weights)\n",
        "\n",
        "# Step 2: Load the test set from the pkl file\n",
        "with open('a2.pkl', 'rb') as file:\n",
        "    test_data = pickle.load(file)\n",
        "# Check if the test_data is a TensorDataset and extract data\n",
        "if isinstance(test_data, torch.utils.data.dataset.TensorDataset):\n",
        "    test_images, test_labels = test_data.tensors\n",
        "    test_images = test_images.numpy()  # Convert to numpy array\n",
        "    test_labels = test_labels.numpy()  # Convert to numpy array\n",
        "    print(f\"Images shape: {test_images.shape}\")\n",
        "    print(f\"Labels shape: {test_labels.shape}\")\n",
        "\n",
        "    # Display 5 images and their corresponding labels\n",
        "    plt.figure(figsize=(4, 3))\n",
        "    for i in range(5):\n",
        "        plt.subplot(1, 5, i+1)\n",
        "        plt.imshow(test_images[i].squeeze(), cmap='gray')  # Remove extra dimension\n",
        "        plt.title(f\"Label: {test_labels[i]}\")\n",
        "        plt.axis('off')\n",
        "    plt.tight_layout()\n",
        "    plt.show()\n",
        "\n",
        "    # Print the number of possible classifications in the dataset\n",
        "    num_classes = len(np.unique(test_labels))\n",
        "    print(f\"Number of possible classifications: {num_classes}\")\n",
        "\n",
        "else:\n",
        "    print(\"The dataset format is not as expected. Please check the file structure.\")\n",
        "\n",
        "\n",
        "# Step 3: Preprocess the test images (flatten and scale)\n",
        "test_images_reshaped = test_images.reshape(test_images.shape[0], 28 * 28)\n",
        "\n",
        "# Load the scaler used during training\n",
        "with open('scaler.pkl', 'rb') as file:\n",
        "    scaler = pickle.load(file)\n",
        "\n",
        "# Apply the same scaling as used during training\n",
        "test_features = scaler.transform(test_images_reshaped)\n",
        "\n",
        "# Step 4: Use the FNN to predict classifications\n",
        "test_predictions = neural_network.predict(test_features)\n",
        "predicted_classes = np.argmax(test_predictions, axis=1)\n",
        "\n",
        "# Calculate and display accuracy\n",
        "accuracy = accuracy_score(test_labels, predicted_classes)\n",
        "print(f\"Test Accuracy: {accuracy:.2f}%\")\n",
        "\n",
        "# Display the confusion matrix and classification report\n",
        "conf_matrix = confusion_matrix(test_labels, predicted_classes)\n",
        "print(\"\\nConfusion Matrix:\\n\", conf_matrix)\n",
        "\n",
        "# Print additional metrics\n",
        "precision = precision_score(test_labels, predicted_classes, average='weighted')\n",
        "recall = recall_score(test_labels, predicted_classes, average='weighted')\n",
        "f1 = f1_score(test_labels, predicted_classes, average='weighted')\n",
        "\n",
        "print(f\"\\nWeighted Precision: {precision:.2f}\")\n",
        "print(f\"Weighted Recall: {recall:.2f}\")\n",
        "print(f\"Weighted F1-Score: {f1:.2f}\")\n",
        "\n",
        "print(\"\\nClassification Report:\\n\")\n",
        "print(classification_report(test_labels, predicted_classes))"
      ],
      "metadata": {
        "colab": {
          "base_uri": "https://localhost:8080/",
          "height": 992
        },
        "id": "adZouSMNbik7",
        "outputId": "285fa411-3b97-4379-e054-acd64d37a90e"
      },
      "execution_count": 94,
      "outputs": [
        {
          "output_type": "stream",
          "name": "stdout",
          "text": [
            "Weights loaded successfully into the network.\n",
            "Images shape: (3611, 1, 28, 28)\n",
            "Labels shape: (3611,)\n"
          ]
        },
        {
          "output_type": "display_data",
          "data": {
            "text/plain": [
              "<Figure size 400x300 with 5 Axes>"
            ],
            "image/png": "[encoded data removed]"
          },
          "metadata": {}
        },
        {
          "output_type": "stream",
          "name": "stdout",
          "text": [
            "Number of possible classifications: 4\n",
            "Test Accuracy: 0.37%\n",
            "\n",
            "Confusion Matrix:\n",
            " [[305   4   4  88   5   1   2   0  49 196]\n",
            " [ 13 432   0  38   1   0   0   0   0  11]\n",
            " [  0   0   0   0   0   0   0   0   0   0]\n",
            " [  0   0   0   0   0   0   0   0   0   0]\n",
            " [  0   0   0   0   0   0   0   0   0   0]\n",
            " [  4   0   0  34  12  84   5 647  16  51]\n",
            " [  0   0   0   0   0   0   0   0   0   0]\n",
            " [  0   0   0   0   0   0   0   0   0   0]\n",
            " [ 52   3 289 160 242 208  71   8 520  56]\n",
            " [  0   0   0   0   0   0   0   0   0   0]]\n",
            "\n",
            "Weighted Precision: 0.75\n",
            "Weighted Recall: 0.37\n",
            "Weighted F1-Score: 0.48\n",
            "\n",
            "Classification Report:\n",
            "\n",
            "              precision    recall  f1-score   support\n",
            "\n",
            "           0       0.82      0.47      0.59       654\n",
            "           1       0.98      0.87      0.93       495\n",
            "           2       0.00      0.00      0.00         0\n",
            "           3       0.00      0.00      0.00         0\n",
            "           4       0.00      0.00      0.00         0\n",
            "           5       0.29      0.10      0.15       853\n",
            "           6       0.00      0.00      0.00         0\n",
            "           7       0.00      0.00      0.00         0\n",
            "           8       0.89      0.32      0.47      1609\n",
            "           9       0.00      0.00      0.00         0\n",
            "\n",
            "    accuracy                           0.37      3611\n",
            "   macro avg       0.30      0.18      0.21      3611\n",
            "weighted avg       0.75      0.37      0.48      3611\n",
            "\n"
          ]
        },
        {
          "output_type": "stream",
          "name": "stderr",
          "text": [
            "/usr/local/lib/python3.10/dist-packages/sklearn/metrics/_classification.py:1531: UndefinedMetricWarning: Recall is ill-defined and being set to 0.0 in labels with no true samples. Use `zero_division` parameter to control this behavior.\n",
            "  _warn_prf(average, modifier, f\"{metric.capitalize()} is\", len(result))\n",
            "/usr/local/lib/python3.10/dist-packages/sklearn/metrics/_classification.py:1531: UndefinedMetricWarning: Recall is ill-defined and being set to 0.0 in labels with no true samples. Use `zero_division` parameter to control this behavior.\n",
            "  _warn_prf(average, modifier, f\"{metric.capitalize()} is\", len(result))\n",
            "/usr/local/lib/python3.10/dist-packages/sklearn/metrics/_classification.py:1531: UndefinedMetricWarning: Recall is ill-defined and being set to 0.0 in labels with no true samples. Use `zero_division` parameter to control this behavior.\n",
            "  _warn_prf(average, modifier, f\"{metric.capitalize()} is\", len(result))\n",
            "/usr/local/lib/python3.10/dist-packages/sklearn/metrics/_classification.py:1531: UndefinedMetricWarning: Recall is ill-defined and being set to 0.0 in labels with no true samples. Use `zero_division` parameter to control this behavior.\n",
            "  _warn_prf(average, modifier, f\"{metric.capitalize()} is\", len(result))\n"
          ]
        }
      ]
    }
  ],
  "metadata": {
    "colab": {
      "provenance": []
    },
    "kernelspec": {
      "display_name": "Python 3",
      "name": "python3"
    },
    "language_info": {
      "name": "python"
    }
  },
  "nbformat": 4,
  "nbformat_minor": 0
}